{
 "cells": [
  {
   "cell_type": "markdown",
   "metadata": {},
   "source": [
    "## Deploying as a FaaS"
   ]
  },
  {
   "cell_type": "markdown",
   "metadata": {},
   "source": [
    "### Verifying the model"
   ]
  },
  {
   "cell_type": "markdown",
   "metadata": {},
   "source": [
    "The first part of this milestone will consist in verifying our model. With this, we'll be sure that we have everything that we need to run our model in a remote environment like a FaaS, and that we'll be able to predict new text with it."
   ]
  },
  {
   "cell_type": "markdown",
   "metadata": {},
   "source": [
    "### Download corpora \n",
    "\n",
    "We still need the stopwords list as well as the punctuation list to prepare our input. Movie reviews are contained in the model."
   ]
  },
  {
   "cell_type": "code",
   "execution_count": null,
   "metadata": {},
   "outputs": [],
   "source": [
    "from nltk import download\n",
    "\n",
    "download('punkt')\n",
    "download('stopwords')"
   ]
  },
  {
   "cell_type": "markdown",
   "metadata": {},
   "source": [
    "### Prepare feature extraction and bag-of-words converter"
   ]
  },
  {
   "cell_type": "markdown",
   "metadata": {},
   "source": [
    "This implementation needs to match the implementation that the model used."
   ]
  },
  {
   "cell_type": "code",
   "execution_count": 4,
   "metadata": {},
   "outputs": [
    {
     "name": "stdout",
     "output_type": "stream",
     "text": [
      "{('real',): 1, ('real', 'lik'): 1, ('real', 'lik', 'thi'): 1, ('lik',): 1, ('lik', 'thi'): 1, ('lik', 'thi', 'movy'): 1, ('thi',): 1, ('thi', 'movy'): 1, ('thi', 'movy', 'al'): 1, ('movy',): 1, ('movy', 'al'): 1, ('movy', 'al', 'much'): 1, ('al',): 1, ('al', 'much'): 1, ('much',): 1}\n"
     ]
    }
   ],
   "source": [
    "from nltk.corpus import stopwords\n",
    "from nltk.stem.lancaster import LancasterStemmer\n",
    "from nltk import everygrams\n",
    "from string import punctuation as punctuation_list\n",
    "\n",
    "from nltk.tokenize import word_tokenize\n",
    "\n",
    "stopword_list = stopwords.words('english')\n",
    "stemmer = LancasterStemmer()\n",
    "\n",
    "def extract_features(input_string):\n",
    "    words = word_tokenize(input_string)\n",
    "    # Second pass, remove stop words and punctuation.\n",
    "    features = [stemmer.stem(word) for word in words if stemmer.stem(word) not in stopword_list and stemmer.stem(word) not in punctuation_list]\n",
    "\n",
    "    # Third pass, generate n_grams\n",
    "    n_grams = everygrams(features, max_len=3)\n",
    "    \n",
    "    return n_grams\n",
    "\n",
    "def bag_of_words(words):\n",
    "    bag = {}\n",
    "    for word in words:\n",
    "        bag[word] = bag.get(word, 0) + 1\n",
    "    return bag\n",
    "\n",
    "tokens = list(extract_features('I Really did not likE this movie all that much'))\n",
    "print(bag_of_words(tokens))"
   ]
  },
  {
   "cell_type": "markdown",
   "metadata": {},
   "source": [
    "### Import trained model"
   ]
  },
  {
   "cell_type": "code",
   "execution_count": 8,
   "metadata": {},
   "outputs": [],
   "source": [
    "import pickle\n",
    "\n",
    "MODEL_PATH = '../model/sa_classifier.pickle'\n",
    "\n",
    "with open(MODEL_PATH, 'rb') as file:\n",
    "    model = pickle.load(file)"
   ]
  },
  {
   "cell_type": "markdown",
   "metadata": {},
   "source": [
    "### Define prediction method"
   ]
  },
  {
   "cell_type": "code",
   "execution_count": 6,
   "metadata": {},
   "outputs": [],
   "source": [
    "def get_sentiment(review):\n",
    "    words = extract_features(review)\n",
    "    words = bag_of_words(words)\n",
    "    return model.classify(words)"
   ]
  },
  {
   "cell_type": "markdown",
   "metadata": {},
   "source": [
    "### Validate model is working as expected"
   ]
  },
  {
   "cell_type": "code",
   "execution_count": 9,
   "metadata": {},
   "outputs": [
    {
     "name": "stdout",
     "output_type": "stream",
     "text": [
      "positive_review: pos\n",
      "negative_review: neg\n"
     ]
    }
   ],
   "source": [
    "positive_review = 'This movie is probably the best movie I have ever seen in my entire life.'\n",
    "print('positive_review: '+get_sentiment(positive_review))\n",
    "\n",
    "negative_review = 'Trash, trash, and more trash. Two thumbs down! I would not recommend this movie to my worst enemy.'\n",
    "print('negative_review: '+get_sentiment(negative_review))"
   ]
  }
 ],
 "metadata": {
  "kernelspec": {
   "display_name": "env",
   "language": "python",
   "name": "python3"
  },
  "language_info": {
   "codemirror_mode": {
    "name": "ipython",
    "version": 3
   },
   "file_extension": ".py",
   "mimetype": "text/x-python",
   "name": "python",
   "nbconvert_exporter": "python",
   "pygments_lexer": "ipython3",
   "version": "3.11.6"
  }
 },
 "nbformat": 4,
 "nbformat_minor": 2
}
